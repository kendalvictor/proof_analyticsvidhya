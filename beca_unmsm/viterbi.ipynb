{
 "cells": [
  {
   "cell_type": "code",
   "execution_count": 1,
   "metadata": {
    "collapsed": false
   },
   "outputs": [],
   "source": [
    "import numpy as np\n",
    "\n",
    "# Importo mi condicion inicial a priori\n",
    "condition_initial = np.array([\n",
    "    [0.25],\n",
    "    [0.75]\n",
    "])\n",
    "\n",
    "# Mi matriz de transicion\n",
    "transicion = np.array([\n",
    "    [0.7, 0.3],\n",
    "    [0.1, 0.9]\n",
    "])\n",
    "\n",
    "# Mi matriz de emision\n",
    "emision = np.array([\n",
    "    [0.9, 0.1],\n",
    "    [0.2, 0.8]\n",
    "])"
   ]
  },
  {
   "cell_type": "code",
   "execution_count": 2,
   "metadata": {},
   "outputs": [],
   "source": [
    "class Viterbi(object):\n",
    "    def __init__(self, condition_initial, transicion, emision):\n",
    "        self.N = condition_initial.shape[0]\n",
    "        self.condition_initial = condition_initial.copy()\n",
    "        self.transicion = transicion.copy()\n",
    "        self.emision = emision.copy()\n",
    "        \n",
    "        #Validaciones en las dimensiones de datos de entrada\n",
    "        assert self.condition_initial.shape == (self.N, 1)\n",
    "        assert self.transicion.shape == (self.N, self.N)\n",
    "        assert self.emision.shape[0] == self.N\n",
    " \n",
    "    def Obs(self, obs):\n",
    "        return self.emision[:, obs, None]\n",
    "    \n",
    "    def standardization(self, arrayx):\n",
    "        return arrayx / sum(arrayx)\n",
    " \n",
    "    def predict(self, obs):\n",
    "        \"\"\"\n",
    "            Se crea el enrejado inicial con numero de filas = # estados ocultos\n",
    "            y numero de columnas = # de observaciones provistas\n",
    "        \"\"\"\n",
    "        size_initial =  (self.N, len(obs))\n",
    "        trellis = np.zeros(size_initial)\n",
    "        backpt = np.ones(size_initial, 'int32') * -1\n",
    "        \n",
    "        trellis[:, 0] = self.standardization(\n",
    "            np.squeeze(self.condition_initial * self.Obs(obs[0]))\n",
    "        )\n",
    "        \n",
    "        for t in range(1, len(obs)):\n",
    "            trellis[:, t] = self.standardization(\n",
    "                (trellis[:, t-1, None].dot(self.Obs(obs[t]).T) * self.transicion).max(0)\n",
    "            )\n",
    "            backpt[:, t] = (np.tile(trellis[:, t-1, None], [1, self.N]) * self.transicion).argmax(0)\n",
    "        \n",
    "        print(\"=================================== Enrejado\")\n",
    "        print(trellis)\n",
    "        print(\"====\"*12)\n",
    "        tokens = [trellis[:, -1].argmax()]\n",
    "        for i in range(len(obs)-1, 0, -1):\n",
    "            tokens.append(backpt[tokens[-1], i])\n",
    "        return tokens[::-1]"
   ]
  },
  {
   "cell_type": "code",
   "execution_count": 3,
   "metadata": {},
   "outputs": [],
   "source": [
    "# Instanciamos nuestro algoritmo\n",
    "algoritmo = Viterbi(condition_initial, transicion, emision)"
   ]
  },
  {
   "cell_type": "code",
   "execution_count": 4,
   "metadata": {
    "collapsed": true
   },
   "outputs": [
    {
     "name": "stdout",
     "output_type": "stream",
     "text": [
      "#############TESTEO DE ALGORITMO #################\n",
      "\n",
      " Durante 5 días consecutivos se vio un paraguas\n",
      "=================================== Enrejado\n",
      "[[0.04       0.01369863 0.01369863 0.01369863 0.01369863]\n",
      " [0.96       0.98630137 0.98630137 0.98630137 0.98630137]]\n",
      "================================================\n",
      "Estados mas probables [1, 1, 1, 1, 1]\n",
      "\n",
      "\n",
      "\n",
      " Durante 5 días consecutivos NO se vio un paraguas\n",
      "=================================== Enrejado\n",
      "[[0.6        0.84       0.91304348 0.91304348 0.91304348]\n",
      " [0.4        0.16       0.08695652 0.08695652 0.08695652]]\n",
      "================================================\n",
      "Estados mas probables [0, 0, 0, 0, 0]\n",
      "\n",
      "\n",
      "\n",
      " Solo el Lunes Martes y Jueves se vio paraguas\n",
      "=================================== Enrejado\n",
      "[[0.04       0.01369863 0.33333333 0.04635762 0.33333333]\n",
      " [0.96       0.98630137 0.66666667 0.95364238 0.66666667]]\n",
      "================================================\n",
      "Estados mas probables [1, 1, 1, 1, 1]\n",
      "\n",
      "\n",
      "\n",
      " Solo Miercoles y Viernes se vio paraguas\n",
      "=================================== Enrejado\n",
      "[[0.6        0.84       0.22580645 0.50515464 0.09028692]\n",
      " [0.4        0.16       0.77419355 0.49484536 0.90971308]]\n",
      "================================================\n",
      "Estados mas probables [0, 0, 1, 1, 1]\n",
      "\n",
      "\n",
      "\n",
      " Solo el Jueves se vio paraguas\n",
      "=================================== Enrejado\n",
      "[[0.6        0.84       0.91304348 0.22580645 0.50515464]\n",
      " [0.4        0.16       0.08695652 0.77419355 0.49484536]]\n",
      "================================================\n",
      "Estados mas probables [0, 0, 0, 0, 0]\n",
      "\n",
      "\n"
     ]
    }
   ],
   "source": [
    "print(\"#############TESTEO DE ALGORITMO #################\")\n",
    "print(\"\\n Durante 5 días consecutivos se vio un paraguas\")\n",
    "print(\"Estados mas probables\", algoritmo.predict([1, 1, 1, 1, 1]))\n",
    "print(\"\\n\")\n",
    "\n",
    "print(\"\\n Durante 5 días consecutivos NO se vio un paraguas\")\n",
    "print(\"Estados mas probables\", algoritmo.predict([0, 0, 0, 0, 0]))\n",
    "print(\"\\n\")\n",
    "\n",
    "print(\"\\n Solo el Lunes Martes y Jueves se vio paraguas\")\n",
    "print(\"Estados mas probables\", algoritmo.predict([1, 1, 0, 1, 0]))\n",
    "print(\"\\n\")\n",
    "\n",
    "print(\"\\n Solo Miercoles y Viernes se vio paraguas\")\n",
    "print(\"Estados mas probables\", algoritmo.predict([0, 0, 1, 0, 1]))\n",
    "print(\"\\n\")\n",
    "\n",
    "print(\"\\n Solo el Jueves se vio paraguas\")\n",
    "print(\"Estados mas probables\", algoritmo.predict([0, 0, 0, 1, 0]))\n",
    "print(\"\\n\")"
   ]
  }
 ],
 "metadata": {
  "kernelspec": {
   "display_name": "Python 3",
   "language": "python",
   "name": "python3"
  },
  "language_info": {
   "codemirror_mode": {
    "name": "ipython",
    "version": 3
   },
   "file_extension": ".py",
   "mimetype": "text/x-python",
   "name": "python",
   "nbconvert_exporter": "python",
   "pygments_lexer": "ipython3",
   "version": "3.6.4"
  }
 },
 "nbformat": 4,
 "nbformat_minor": 2
}
